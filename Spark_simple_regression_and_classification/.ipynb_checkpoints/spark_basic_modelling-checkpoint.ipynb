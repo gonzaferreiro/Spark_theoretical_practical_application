{
 "cells": [
  {
   "cell_type": "markdown",
   "metadata": {},
   "source": [
    "<img src=\"http://imgur.com/1ZcRyrc.png\" style=\"float: left; margin: 20px; height: 55px\"> \n",
    "# Modelling with Spark\n",
    "---"
   ]
  },
  {
   "cell_type": "markdown",
   "metadata": {},
   "source": [
    "## Objectives\n",
    "\n",
    "- Understand how features and labels have to be encoded in spark\n",
    "- Construct a model pipeline\n",
    "- Fit regression and classification models with spark"
   ]
  },
  {
   "cell_type": "code",
   "execution_count": 1,
   "metadata": {},
   "outputs": [],
   "source": [
    "import pandas as pd\n",
    "import numpy as np\n",
    "import matplotlib.pyplot as plt\n",
    "import seaborn as sns\n",
    " \n",
    "plt.style.use('ggplot')\n",
    "sns.set(font_scale=1.5)\n",
    "%config InlineBackend.figure_format = 'retina'\n",
    "%matplotlib inline"
   ]
  },
  {
   "cell_type": "markdown",
   "metadata": {},
   "source": [
    "## Creating the spark context"
   ]
  },
  {
   "cell_type": "code",
   "execution_count": 2,
   "metadata": {},
   "outputs": [],
   "source": [
    "import pyspark as ps    # for the pyspark suite\n",
    "import warnings         # for displaying warning\n",
    "from pyspark.sql import SQLContext\n",
    "\n",
    "from pyspark.ml import Pipeline\n",
    "from pyspark.ml.classification import LogisticRegression\n",
    "from pyspark.ml.feature import HashingTF, Tokenizer, StandardScaler"
   ]
  },
  {
   "cell_type": "code",
   "execution_count": 3,
   "metadata": {},
   "outputs": [
    {
     "name": "stdout",
     "output_type": "stream",
     "text": [
      "Just created a SparkContext\n"
     ]
    }
   ],
   "source": [
    "try:\n",
    "    # we try to create a SparkContext to work locally on all cpus available\n",
    "    sc = ps.SparkContext('local[4]')\n",
    "    sqlContext = SQLContext(sc)\n",
    "    print(\"Just created a SparkContext\")\n",
    "except ValueError:\n",
    "    # give a warning if SparkContext already exists (for use inside pyspark)\n",
    "    warnings.warn(\"SparkContext already exists in this scope\")"
   ]
  },
  {
   "cell_type": "markdown",
   "metadata": {},
   "source": [
    "## Regression example"
   ]
  },
  {
   "cell_type": "markdown",
   "metadata": {},
   "source": [
    "### Load the data"
   ]
  },
  {
   "cell_type": "code",
   "execution_count": 4,
   "metadata": {},
   "outputs": [
    {
     "data": {
      "text/plain": [
       "Index(['CRIM', 'ZN', 'INDUS', 'CHAS', 'NOX', 'RM', 'AGE', 'DIS', 'RAD', 'TAX',\n",
       "       'PTRATIO', 'B', 'LSTAT', 'MEDV'],\n",
       "      dtype='object')"
      ]
     },
     "execution_count": 4,
     "metadata": {},
     "output_type": "execute_result"
    }
   ],
   "source": [
    "from sklearn.datasets import load_boston\n",
    "\n",
    "data  = load_boston()\n",
    "df = pd.DataFrame(data.data, columns=data.feature_names)\n",
    "df['MEDV'] = data.target\n",
    "df.columns"
   ]
  },
  {
   "cell_type": "markdown",
   "metadata": {},
   "source": [
    "### Put the data into a spark dataframe"
   ]
  },
  {
   "cell_type": "code",
   "execution_count": 5,
   "metadata": {},
   "outputs": [],
   "source": [
    "spark_df = sqlContext.createDataFrame(df)"
   ]
  },
  {
   "cell_type": "code",
   "execution_count": 6,
   "metadata": {},
   "outputs": [
    {
     "data": {
      "text/plain": [
       "Row(CRIM=0.00632, ZN=18.0, INDUS=2.31, CHAS=0.0, NOX=0.538, RM=6.575, AGE=65.2, DIS=4.09, RAD=1.0, TAX=296.0, PTRATIO=15.3, B=396.9, LSTAT=4.98, MEDV=24.0)"
      ]
     },
     "execution_count": 6,
     "metadata": {},
     "output_type": "execute_result"
    }
   ],
   "source": [
    "spark_df.first()"
   ]
  },
  {
   "cell_type": "markdown",
   "metadata": {},
   "source": [
    "### Create feature columns"
   ]
  },
  {
   "cell_type": "code",
   "execution_count": 7,
   "metadata": {},
   "outputs": [],
   "source": [
    "from pyspark.ml.feature import StandardScaler, VectorAssembler"
   ]
  },
  {
   "cell_type": "code",
   "execution_count": 8,
   "metadata": {},
   "outputs": [
    {
     "data": {
      "text/plain": [
       "DataFrame[CRIM: double, ZN: double, INDUS: double, CHAS: double, NOX: double, RM: double, AGE: double, DIS: double, RAD: double, TAX: double, PTRATIO: double, B: double, LSTAT: double, MEDV: double, features: vector]"
      ]
     },
     "execution_count": 8,
     "metadata": {},
     "output_type": "execute_result"
    }
   ],
   "source": [
    "vectorAssembler = VectorAssembler(inputCols=data.feature_names,\n",
    "                                  outputCol=\"features\")\n",
    "\n",
    "vector_df = vectorAssembler.transform(spark_df)\n",
    "vector_df.persist()"
   ]
  },
  {
   "cell_type": "code",
   "execution_count": 9,
   "metadata": {},
   "outputs": [
    {
     "data": {
      "text/plain": [
       "Row(CRIM=0.00632, ZN=18.0, INDUS=2.31, CHAS=0.0, NOX=0.538, RM=6.575, AGE=65.2, DIS=4.09, RAD=1.0, TAX=296.0, PTRATIO=15.3, B=396.9, LSTAT=4.98, MEDV=24.0, features=DenseVector([0.0063, 18.0, 2.31, 0.0, 0.538, 6.575, 65.2, 4.09, 1.0, 296.0, 15.3, 396.9, 4.98]))"
      ]
     },
     "execution_count": 9,
     "metadata": {},
     "output_type": "execute_result"
    }
   ],
   "source": [
    "# We know stored our features alone as a DenseVector inside each row\n",
    "vector_df.first()"
   ]
  },
  {
   "cell_type": "code",
   "execution_count": 10,
   "metadata": {},
   "outputs": [
    {
     "name": "stdout",
     "output_type": "stream",
     "text": [
      "+--------------------+\n",
      "|            features|\n",
      "+--------------------+\n",
      "|[0.00632,18.0,2.3...|\n",
      "|[0.02731,0.0,7.07...|\n",
      "+--------------------+\n",
      "only showing top 2 rows\n",
      "\n"
     ]
    }
   ],
   "source": [
    "# We can access our features the following way:\n",
    "\n",
    "vector_df.select('features').show(2)"
   ]
  },
  {
   "cell_type": "markdown",
   "metadata": {},
   "source": [
    "### Rescale the data"
   ]
  },
  {
   "cell_type": "code",
   "execution_count": 11,
   "metadata": {},
   "outputs": [
    {
     "data": {
      "text/plain": [
       "Row(CRIM=0.00632, ZN=18.0, INDUS=2.31, CHAS=0.0, NOX=0.538, RM=6.575, AGE=65.2, DIS=4.09, RAD=1.0, TAX=296.0, PTRATIO=15.3, B=396.9, LSTAT=4.98, MEDV=24.0, features=DenseVector([0.0063, 18.0, 2.31, 0.0, 0.538, 6.575, 65.2, 4.09, 1.0, 296.0, 15.3, 396.9, 4.98]), scaledfeatures=DenseVector([-0.4194, 0.2845, -1.2866, -0.2723, -0.1441, 0.4133, -0.1199, 0.1401, -0.9819, -0.6659, -1.4576, 0.4406, -1.0745]))"
      ]
     },
     "execution_count": 11,
     "metadata": {},
     "output_type": "execute_result"
    }
   ],
   "source": [
    "scaler = StandardScaler(withMean=True, \n",
    "                        inputCol=\"features\", \n",
    "                        outputCol=\"scaledfeatures\")\n",
    "scalerModel = scaler.fit(vector_df)\n",
    "scaled_df = scalerModel.transform(vector_df)\n",
    "\n",
    "scaled_df.first()"
   ]
  },
  {
   "cell_type": "markdown",
   "metadata": {},
   "source": [
    "### Fit and evaluate a linear regression model"
   ]
  },
  {
   "cell_type": "code",
   "execution_count": 12,
   "metadata": {},
   "outputs": [],
   "source": [
    "from pyspark.ml.regression import LinearRegression"
   ]
  },
  {
   "cell_type": "code",
   "execution_count": 13,
   "metadata": {},
   "outputs": [
    {
     "name": "stdout",
     "output_type": "stream",
     "text": [
      "Coefficients: [-0.6062632627237932,0.506234533355129,-0.45076347419998763,0.7222839154612086,-0.7197652622902533,2.6558830369406734,-0.20223035959396662,-1.3041718596876442,0.4203270059761807,-0.5159561186446083,-1.5340017317179775,0.7302749733697345,-2.6704591109791416]\n",
      "Intercept: 22.532806324110666\n",
      "+-------------------+\n",
      "|          residuals|\n",
      "+-------------------+\n",
      "| -5.715179874348994|\n",
      "| -3.501561127864761|\n",
      "|  4.704276652960182|\n",
      "|  4.396390100783677|\n",
      "|  7.571708144725903|\n",
      "|  2.788887122370486|\n",
      "|-0.7843526158647549|\n",
      "|  5.770899773545327|\n",
      "| 1.4435189491054565|\n",
      "|-2.1532747901694904|\n",
      "| -6.344698272018949|\n",
      "|-3.9375143685819545|\n",
      "|-0.5178168301829764|\n",
      "|-0.6189233518252948|\n",
      "| -2.480090684744507|\n",
      "| -0.763081059357237|\n",
      "| 1.2531615320005507|\n",
      "|-1.3202460103174936|\n",
      "|  2.457384759577973|\n",
      "|-1.3049574271814421|\n",
      "+-------------------+\n",
      "only showing top 20 rows\n",
      "\n",
      "RMSE: 4.984106058207139\n",
      "r2: 0.7057398269957282\n"
     ]
    }
   ],
   "source": [
    "model = LinearRegression(featuresCol=scaler.getOutputCol(),\n",
    "                         labelCol='MEDV',\n",
    "                         maxIter=3000, \n",
    "                         regParam=3.0, \n",
    "                         elasticNetParam=0.0)\n",
    "\n",
    "# Fit the model\n",
    "model_fit = model.fit(scaled_df)\n",
    "\n",
    "# Print the coefficients and intercept for linear regression\n",
    "print(\"Coefficients: {}\".format(model_fit.coefficients))\n",
    "print(\"Intercept: {}\".format(model_fit.intercept))\n",
    "\n",
    "# Summarize the model over the training set and print out some metrics\n",
    "summary_train = model_fit.summary\n",
    "summary_train.residuals.show()\n",
    "print(\"RMSE: {}\".format(summary_train.rootMeanSquaredError))\n",
    "print(\"r2: {}\" .format(summary_train.r2))"
   ]
  },
  {
   "cell_type": "markdown",
   "metadata": {},
   "source": [
    "### Linear regression with train-test split and pipeline"
   ]
  },
  {
   "cell_type": "code",
   "execution_count": 14,
   "metadata": {},
   "outputs": [],
   "source": [
    "# Setup of the train-test split\n",
    "\n",
    "(data_train, data_test) = vector_df.randomSplit([0.7, 0.3],seed=1)"
   ]
  },
  {
   "cell_type": "code",
   "execution_count": 15,
   "metadata": {},
   "outputs": [],
   "source": [
    "# Add the stages to the Pipeline\n",
    "pipeline = Pipeline(stages=[scaler, model])"
   ]
  },
  {
   "cell_type": "code",
   "execution_count": 16,
   "metadata": {},
   "outputs": [],
   "source": [
    "model_fit = pipeline.fit(data_train)"
   ]
  },
  {
   "cell_type": "code",
   "execution_count": 17,
   "metadata": {},
   "outputs": [
    {
     "name": "stdout",
     "output_type": "stream",
     "text": [
      "Coefficients: [-0.5943224384820919,0.4998150414555437,-0.2950980694178569,0.6562384914943212,-0.8804672381738281,2.8324380318195894,-0.281789560660237,-1.354099680732904,0.310384908681012,-0.5011005487663208,-1.6260098600146446,0.7782000335039344,-2.4694597648550087]\n",
      "Intercept: 22.54705882352942\n",
      "+--------------------+\n",
      "|           residuals|\n",
      "+--------------------+\n",
      "|   -5.65269739033878|\n",
      "|   4.679806484281578|\n",
      "|0.020008090338361484|\n",
      "| 0.10006386770952247|\n",
      "| -1.7358200381036255|\n",
      "|   4.638616291710406|\n",
      "|  -3.546458574586957|\n",
      "|   1.347912323789064|\n",
      "| -1.6455215690228506|\n",
      "|  4.5663180775743015|\n",
      "|  2.8894638840916116|\n",
      "| -1.7696893559052427|\n",
      "|  -5.621181746984142|\n",
      "| -0.8720752283085318|\n",
      "| 0.16705888219081189|\n",
      "|  -4.262070333630366|\n",
      "|  -5.700318853843417|\n",
      "|  -2.465946944823802|\n",
      "| -3.9094212863913143|\n",
      "| -1.1482821632082576|\n",
      "+--------------------+\n",
      "only showing top 20 rows\n",
      "\n",
      "RMSE: 4.953844816818021\n",
      "r2: 0.7122273921852266\n"
     ]
    }
   ],
   "source": [
    "# Print the coefficients and intercept for linear regression\n",
    "print(\"Coefficients: {}\".format(model_fit.stages[1].coefficients))\n",
    "print(\"Intercept: {}\".format(model_fit.stages[1].intercept))\n",
    "\n",
    "# Summarize the model over the training set and print out some metrics\n",
    "summary_train = model_fit.stages[1].summary\n",
    "summary_train.residuals.show()\n",
    "print(\"RMSE: {}\".format(summary_train.rootMeanSquaredError))\n",
    "print(\"r2: {}\".format(summary_train.r2))"
   ]
  },
  {
   "cell_type": "code",
   "execution_count": 18,
   "metadata": {},
   "outputs": [
    {
     "data": {
      "text/plain": [
       "[Row(MEDV=33.0, features=DenseVector([0.0195, 17.5, 1.38, 0.0, 0.4161, 7.104, 59.5, 9.2229, 3.0, 216.0, 18.6, 393.24, 8.05])),\n",
       " Row(MEDV=28.7, features=DenseVector([0.0298, 0.0, 2.18, 0.0, 0.458, 6.43, 58.7, 6.0622, 3.0, 222.0, 18.7, 394.12, 5.21])),\n",
       " Row(MEDV=22.0, features=DenseVector([0.0393, 0.0, 3.41, 0.0, 0.489, 6.405, 73.9, 3.0921, 2.0, 270.0, 17.8, 393.55, 8.2])),\n",
       " Row(MEDV=22.9, features=DenseVector([0.042, 28.0, 15.04, 0.0, 0.464, 6.442, 53.6, 3.6659, 4.0, 270.0, 18.2, 395.01, 8.16])),\n",
       " Row(MEDV=20.5, features=DenseVector([0.0434, 21.0, 5.64, 0.0, 0.439, 6.115, 63.0, 6.8147, 4.0, 243.0, 16.8, 393.97, 9.43]))]"
      ]
     },
     "execution_count": 18,
     "metadata": {},
     "output_type": "execute_result"
    }
   ],
   "source": [
    "data_test.select('MEDV','features').take(5)"
   ]
  },
  {
   "cell_type": "code",
   "execution_count": 19,
   "metadata": {},
   "outputs": [],
   "source": [
    "predictions = model_fit.transform(data_test)"
   ]
  },
  {
   "cell_type": "code",
   "execution_count": 20,
   "metadata": {},
   "outputs": [
    {
     "name": "stdout",
     "output_type": "stream",
     "text": [
      "+----+------------------+--------------------+--------------------+\n",
      "|MEDV|        prediction|      scaledfeatures|            features|\n",
      "+----+------------------+--------------------+--------------------+\n",
      "|33.0| 26.07811883089793|[-0.4345522980957...|[0.01951,17.5,1.3...|\n",
      "|28.7|25.671655566721004|[-0.4332489475014...|[0.02985,0.0,2.18...|\n",
      "|22.0| 26.60107132730395|[-0.4320552598681...|[0.03932,0.0,3.41...|\n",
      "|22.9|26.642531974167294|[-0.4317136660470...|[0.04203,28.0,15....|\n",
      "|20.5|24.290626061321454|[-0.4315447598771...|[0.04337,21.0,5.6...|\n",
      "+----+------------------+--------------------+--------------------+\n",
      "only showing top 5 rows\n",
      "\n"
     ]
    }
   ],
   "source": [
    "# Select example rows to display.\n",
    "predictions.select(\"MEDV\", \"prediction\",  \"scaledfeatures\",'features').show(5)"
   ]
  },
  {
   "cell_type": "code",
   "execution_count": 21,
   "metadata": {},
   "outputs": [],
   "source": [
    "from pyspark.ml.evaluation import RegressionEvaluator"
   ]
  },
  {
   "cell_type": "code",
   "execution_count": 22,
   "metadata": {},
   "outputs": [
    {
     "data": {
      "text/plain": [
       "0.687119265719122"
      ]
     },
     "execution_count": 22,
     "metadata": {},
     "output_type": "execute_result"
    }
   ],
   "source": [
    "evaluator = RegressionEvaluator(predictionCol='prediction',\n",
    "                                labelCol='MEDV',\n",
    "                                metricName='r2')\n",
    "evaluator.evaluate(predictions)"
   ]
  },
  {
   "cell_type": "markdown",
   "metadata": {},
   "source": [
    "### Linear regression with grid search"
   ]
  },
  {
   "cell_type": "code",
   "execution_count": 23,
   "metadata": {},
   "outputs": [],
   "source": [
    "# CrossValidator ir our GridSearch\n",
    "# With ParamGridBuilder we are going to setup the parameters\n",
    "\n",
    "from pyspark.ml.tuning import CrossValidator, ParamGridBuilder"
   ]
  },
  {
   "cell_type": "code",
   "execution_count": 25,
   "metadata": {},
   "outputs": [
    {
     "data": {
      "text/plain": [
       "['aggregationDepth',\n",
       " 'solver',\n",
       " 'standardization',\n",
       " 'fitIntercept',\n",
       " 'elasticNetParam',\n",
       " 'predictionCol',\n",
       " 'labelCol',\n",
       " 'featuresCol',\n",
       " 'maxIter',\n",
       " 'regParam',\n",
       " 'tol',\n",
       " 'loss',\n",
       " 'epsilon']"
      ]
     },
     "execution_count": 25,
     "metadata": {},
     "output_type": "execute_result"
    }
   ],
   "source": [
    "# This way we can get the list of parameters to try\n",
    "\n",
    "[parameter.name for parameter in model._defaultParamMap]"
   ]
  },
  {
   "cell_type": "code",
   "execution_count": 26,
   "metadata": {},
   "outputs": [],
   "source": [
    "scaler = StandardScaler(withMean=True,\n",
    "                        inputCol=\"features\", \n",
    "                        outputCol=\"scaledfeatures\")\n",
    "\n",
    "model = LinearRegression(featuresCol=scaler.getOutputCol(),\n",
    "                         labelCol='MEDV',\n",
    "                         maxIter=3000, \n",
    "                         regParam=0.0, \n",
    "                         elasticNetParam=0.0)\n",
    "\n",
    "pipeline = Pipeline(stages=[scaler, model])\n",
    "\n",
    "evaluator = RegressionEvaluator(predictionCol='prediction',\n",
    "                                labelCol='MEDV',\n",
    "                                metricName='r2')\n",
    "\n",
    "paramGrid = ParamGridBuilder() \\\n",
    "    .addGrid(model.regParam, np.logspace(-4,4,9)) \\\n",
    "    .addGrid(model.fitIntercept,[True,False]) \\\n",
    "    .build()\n",
    "\n",
    "# the actual gridsearch\n",
    "crossval = CrossValidator(estimator=pipeline,\n",
    "                          estimatorParamMaps=paramGrid,\n",
    "                          evaluator=evaluator,\n",
    "                          numFolds=5)  \n",
    "\n",
    "# Run cross-validation, and choose the best set of parameters.\n",
    "model_fit = crossval.fit(data_train)"
   ]
  },
  {
   "cell_type": "code",
   "execution_count": 33,
   "metadata": {},
   "outputs": [
    {
     "data": {
      "text/plain": [
       "JavaObject id=o30585"
      ]
     },
     "execution_count": 33,
     "metadata": {},
     "output_type": "execute_result"
    }
   ],
   "source": [
    "model_fit.bestModel.stages[1]._java_obj # Just reffering to the step in the GridSearch"
   ]
  },
  {
   "cell_type": "code",
   "execution_count": 34,
   "metadata": {},
   "outputs": [
    {
     "name": "stdout",
     "output_type": "stream",
     "text": [
      "{'regParam': 0.01, 'fitIntercept': True}\n",
      "\n",
      "aggregationDepth: suggested depth for treeAggregate (>= 2) (default: 2)\n",
      "elasticNetParam: the ElasticNet mixing parameter, in range [0, 1]. For alpha = 0, the penalty is an L2 penalty. For alpha = 1, it is an L1 penalty (default: 0.0, current: 0.0)\n",
      "epsilon: The shape parameter to control the amount of robustness. Must be > 1.0. (default: 1.35)\n",
      "featuresCol: features column name (default: features, current: scaledfeatures)\n",
      "fitIntercept: whether to fit an intercept term (default: true, current: true)\n",
      "labelCol: label column name (default: label, current: MEDV)\n",
      "loss: The loss function to be optimized. Supported options: squaredError, huber. (Default squaredError) (default: squaredError)\n",
      "maxIter: maximum number of iterations (>= 0) (default: 100, current: 3000)\n",
      "predictionCol: prediction column name (default: prediction)\n",
      "regParam: regularization parameter (>= 0) (default: 0.0, current: 0.01)\n",
      "solver: The solver algorithm for optimization. Supported options: auto, normal, l-bfgs. (Default auto) (default: auto)\n",
      "standardization: whether to standardize the training features before fitting the model (default: true)\n",
      "tol: the convergence tolerance for iterative algorithms (>= 0) (default: 1.0E-6)\n",
      "weightCol: weight column name. If this is not set or empty, we treat all instance weights as 1.0 (undefined)\n"
     ]
    }
   ],
   "source": [
    "java_model = model_fit.bestModel.stages[1]._java_obj\n",
    "\n",
    "print({param.name: java_model.getOrDefault(java_model.getParam(param.name)) \n",
    "    for param in paramGrid[0]})\n",
    "print()\n",
    "print(java_model.explainParams())"
   ]
  },
  {
   "cell_type": "code",
   "execution_count": 35,
   "metadata": {},
   "outputs": [
    {
     "data": {
      "text/plain": [
       "[Row(MEDV=33.0, prediction=22.632280505721987),\n",
       " Row(MEDV=28.7, prediction=24.475315996568177),\n",
       " Row(MEDV=22.0, prediction=27.21047869713705),\n",
       " Row(MEDV=22.9, prediction=29.812686695575778),\n",
       " Row(MEDV=20.5, prediction=23.701500832080598)]"
      ]
     },
     "execution_count": 35,
     "metadata": {},
     "output_type": "execute_result"
    }
   ],
   "source": [
    "prediction = model_fit.transform(data_test)\n",
    "selected = prediction.select(\"MEDV\", \"prediction\").limit(5)\n",
    "selected.take(5)"
   ]
  },
  {
   "cell_type": "markdown",
   "metadata": {},
   "source": [
    "## Classification"
   ]
  },
  {
   "cell_type": "markdown",
   "metadata": {},
   "source": [
    "### Load the data"
   ]
  },
  {
   "cell_type": "code",
   "execution_count": 36,
   "metadata": {},
   "outputs": [
    {
     "data": {
      "text/plain": [
       "Index(['mean radius', 'mean texture', 'mean perimeter', 'mean area',\n",
       "       'mean smoothness', 'mean compactness', 'mean concavity',\n",
       "       'mean concave points', 'mean symmetry', 'mean fractal dimension',\n",
       "       'radius error', 'texture error', 'perimeter error', 'area error',\n",
       "       'smoothness error', 'compactness error', 'concavity error',\n",
       "       'concave points error', 'symmetry error', 'fractal dimension error',\n",
       "       'worst radius', 'worst texture', 'worst perimeter', 'worst area',\n",
       "       'worst smoothness', 'worst compactness', 'worst concavity',\n",
       "       'worst concave points', 'worst symmetry', 'worst fractal dimension',\n",
       "       'label'],\n",
       "      dtype='object')"
      ]
     },
     "execution_count": 36,
     "metadata": {},
     "output_type": "execute_result"
    }
   ],
   "source": [
    "from sklearn.datasets import load_breast_cancer\n",
    "\n",
    "data  = load_breast_cancer()\n",
    "df = pd.DataFrame(data.data,columns=data.feature_names)\n",
    "df['label'] = data.target\n",
    "df.columns"
   ]
  },
  {
   "cell_type": "markdown",
   "metadata": {},
   "source": [
    "### Create the spark dataframe"
   ]
  },
  {
   "cell_type": "code",
   "execution_count": 37,
   "metadata": {},
   "outputs": [
    {
     "data": {
      "text/plain": [
       "Row(mean radius=17.99, mean texture=10.38, mean perimeter=122.8, mean area=1001.0, mean smoothness=0.1184, mean compactness=0.2776, mean concavity=0.3001, mean concave points=0.1471, mean symmetry=0.2419, mean fractal dimension=0.07871, radius error=1.095, texture error=0.9053, perimeter error=8.589, area error=153.4, smoothness error=0.006399, compactness error=0.04904, concavity error=0.05373, concave points error=0.01587, symmetry error=0.03003, fractal dimension error=0.006193, worst radius=25.38, worst texture=17.33, worst perimeter=184.6, worst area=2019.0, worst smoothness=0.1622, worst compactness=0.6656, worst concavity=0.7119, worst concave points=0.2654, worst symmetry=0.4601, worst fractal dimension=0.1189, label=0)"
      ]
     },
     "execution_count": 37,
     "metadata": {},
     "output_type": "execute_result"
    }
   ],
   "source": [
    "spark_df = sqlContext.createDataFrame(df)\n",
    "\n",
    "spark_df.first()"
   ]
  },
  {
   "cell_type": "markdown",
   "metadata": {},
   "source": [
    "### Create feature columns"
   ]
  },
  {
   "cell_type": "code",
   "execution_count": 38,
   "metadata": {},
   "outputs": [
    {
     "name": "stdout",
     "output_type": "stream",
     "text": [
      "+--------------------+\n",
      "|            features|\n",
      "+--------------------+\n",
      "|[17.99,10.38,122....|\n",
      "|[20.57,17.77,132....|\n",
      "+--------------------+\n",
      "only showing top 2 rows\n",
      "\n"
     ]
    }
   ],
   "source": [
    "vectorAssembler = VectorAssembler(inputCols=data.feature_names,\n",
    "                                  outputCol=\"features\")\n",
    "\n",
    "vector_df = vectorAssembler.transform(spark_df)\n",
    "vector_df.persist()\n",
    "vector_df.select('features').show(2)"
   ]
  },
  {
   "cell_type": "markdown",
   "metadata": {},
   "source": [
    "### Rescale the data"
   ]
  },
  {
   "cell_type": "code",
   "execution_count": 39,
   "metadata": {},
   "outputs": [
    {
     "data": {
      "text/plain": [
       "Row(mean radius=17.99, mean texture=10.38, mean perimeter=122.8, mean area=1001.0, mean smoothness=0.1184, mean compactness=0.2776, mean concavity=0.3001, mean concave points=0.1471, mean symmetry=0.2419, mean fractal dimension=0.07871, radius error=1.095, texture error=0.9053, perimeter error=8.589, area error=153.4, smoothness error=0.006399, compactness error=0.04904, concavity error=0.05373, concave points error=0.01587, symmetry error=0.03003, fractal dimension error=0.006193, worst radius=25.38, worst texture=17.33, worst perimeter=184.6, worst area=2019.0, worst smoothness=0.1622, worst compactness=0.6656, worst concavity=0.7119, worst concave points=0.2654, worst symmetry=0.4601, worst fractal dimension=0.1189, label=0, features=DenseVector([17.99, 10.38, 122.8, 1001.0, 0.1184, 0.2776, 0.3001, 0.1471, 0.2419, 0.0787, 1.095, 0.9053, 8.589, 153.4, 0.0064, 0.049, 0.0537, 0.0159, 0.03, 0.0062, 25.38, 17.33, 184.6, 2019.0, 0.1622, 0.6656, 0.7119, 0.2654, 0.4601, 0.1189]), scaledfeatures=DenseVector([1.0961, -2.0715, 1.2688, 0.9835, 1.5671, 3.2806, 2.6505, 2.5302, 2.2156, 2.2538, 2.4875, -0.5648, 2.8305, 2.4854, -0.2138, 1.3157, 0.7234, 0.6602, 1.1477, 0.9063, 1.885, -1.3581, 2.3016, 1.9995, 1.3065, 2.6144, 2.1077, 2.2941, 2.7482, 1.9353]))"
      ]
     },
     "execution_count": 39,
     "metadata": {},
     "output_type": "execute_result"
    }
   ],
   "source": [
    "scaler = StandardScaler(withMean=True,\n",
    "                        inputCol=\"features\", \n",
    "                        outputCol=\"scaledfeatures\")\n",
    "\n",
    "# Compute summary statistics and generate MinMaxScalerModel\n",
    "scalerModel = scaler.fit(vector_df)\n",
    "\n",
    "# rescale each feature to range [min, max].\n",
    "scaled_df = scalerModel.transform(vector_df)\n",
    "\n",
    "scaled_df.first()"
   ]
  },
  {
   "cell_type": "markdown",
   "metadata": {},
   "source": [
    "### Fit logistic regression"
   ]
  },
  {
   "cell_type": "code",
   "execution_count": 40,
   "metadata": {},
   "outputs": [],
   "source": [
    "from pyspark.ml.classification import LogisticRegression"
   ]
  },
  {
   "cell_type": "code",
   "execution_count": 41,
   "metadata": {},
   "outputs": [
    {
     "name": "stdout",
     "output_type": "stream",
     "text": [
      "Coefficients: [20.023758334834152,-0.8445030937829804,13.431564608414217,-4.793736877507519,-6.851653964781828,24.440434189765245,-22.945005450201073,-9.040402164144506,4.100610224762407,-1.8099557466080487,-11.155933658174453,4.853527608291271,12.332713935968915,-21.592955363910047,-0.8295130369704345,-9.958242032584069,15.562709039366776,-18.291352230448787,4.392854006322556,20.714836955547327,-11.853477633819338,-8.749642933070469,-12.784313697010843,-24.386304196581932,3.375300726559571,2.7413113310919086,-6.108756896041187,3.1509156774857097,-7.9791006123547294,-13.627701280838766]\n",
      "Intercept: -6.205880654551947\n"
     ]
    },
    {
     "data": {
      "text/plain": [
       "[Row(label=0.0, probability=DenseVector([1.0, 0.0]), prediction=0.0),\n",
       " Row(label=0.0, probability=DenseVector([1.0, 0.0]), prediction=0.0),\n",
       " Row(label=0.0, probability=DenseVector([1.0, 0.0]), prediction=0.0),\n",
       " Row(label=0.0, probability=DenseVector([1.0, 0.0]), prediction=0.0),\n",
       " Row(label=0.0, probability=DenseVector([1.0, 0.0]), prediction=0.0)]"
      ]
     },
     "execution_count": 41,
     "metadata": {},
     "output_type": "execute_result"
    }
   ],
   "source": [
    "model = LogisticRegression(featuresCol='scaledfeatures',labelCol='label')\n",
    "\n",
    "# Fit the model\n",
    "model_fit = model.fit(scaled_df)\n",
    "\n",
    "# Print the coefficients and intercept for linear regression\n",
    "print(\"Coefficients: {}\".format(model_fit.coefficients))\n",
    "print(\"Intercept: {}\".format(model_fit.intercept))\n",
    "\n",
    "# Summarize the model over the training set and print out some metrics\n",
    "summary_train = model_fit.summary\n",
    "\n",
    "summary_train.predictions.select('label','probability','prediction').take(5)"
   ]
  },
  {
   "cell_type": "code",
   "execution_count": 42,
   "metadata": {},
   "outputs": [
    {
     "name": "stdout",
     "output_type": "stream",
     "text": [
      "+-----------------+---------+\n",
      "|           recall|precision|\n",
      "+-----------------+---------+\n",
      "|              0.0|      1.0|\n",
      "|0.453781512605042|      1.0|\n",
      "+-----------------+---------+\n",
      "only showing top 2 rows\n",
      "\n"
     ]
    }
   ],
   "source": [
    "summary_train.pr.show(2)"
   ]
  },
  {
   "cell_type": "code",
   "execution_count": 43,
   "metadata": {},
   "outputs": [
    {
     "data": {
      "image/png": "[encoded data removed]",
      "text/plain": [
       "<Figure size 864x288 with 2 Axes>"
      ]
     },
     "metadata": {
      "image/png": {
       "height": 280,
       "width": 719
      },
      "needs_background": "light"
     },
     "output_type": "display_data"
    }
   ],
   "source": [
    "fig, ax = plt.subplots(ncols=2,figsize=(12,4))\n",
    "summary_train.roc.toPandas().plot(x='FPR',y='TPR',ax=ax[0])\n",
    "summary_train.pr.toPandas().plot(x='recall',y='precision',ax=ax[1]);"
   ]
  },
  {
   "cell_type": "code",
   "execution_count": 44,
   "metadata": {},
   "outputs": [
    {
     "name": "stdout",
     "output_type": "stream",
     "text": [
      "+---+-------------------+\n",
      "|FPR|                TPR|\n",
      "+---+-------------------+\n",
      "|0.0|                0.0|\n",
      "|0.0|  0.453781512605042|\n",
      "|0.0|0.47058823529411764|\n",
      "|0.0|0.49019607843137253|\n",
      "|0.0| 0.5014005602240896|\n",
      "+---+-------------------+\n",
      "only showing top 5 rows\n",
      "\n"
     ]
    }
   ],
   "source": [
    "# Obtain the receiver-operating characteristic as a dataframe and areaUnderROC.\n",
    "summary_train.roc.show(5)"
   ]
  },
  {
   "cell_type": "code",
   "execution_count": 45,
   "metadata": {},
   "outputs": [
    {
     "name": "stdout",
     "output_type": "stream",
     "text": [
      "areaUnderROC: 0.999603615030918\n"
     ]
    }
   ],
   "source": [
    "print(\"areaUnderROC: \" + str(summary_train.areaUnderROC))"
   ]
  },
  {
   "cell_type": "code",
   "execution_count": 46,
   "metadata": {},
   "outputs": [],
   "source": [
    "from pyspark.ml.evaluation import BinaryClassificationEvaluator, MulticlassClassificationEvaluator"
   ]
  },
  {
   "cell_type": "code",
   "execution_count": 47,
   "metadata": {},
   "outputs": [],
   "source": [
    "predictions = summary_train.predictions.select('label','prediction')"
   ]
  },
  {
   "cell_type": "code",
   "execution_count": 49,
   "metadata": {},
   "outputs": [
    {
     "data": {
      "text/plain": [
       "0.9938824586438348"
      ]
     },
     "execution_count": 49,
     "metadata": {},
     "output_type": "execute_result"
    }
   ],
   "source": [
    "# possible metric choices: (areaUnderROC|areaUnderPR)'\n",
    "\n",
    "evaluator = BinaryClassificationEvaluator(\n",
    "    rawPredictionCol='prediction',\n",
    "    labelCol='label',\n",
    "    metricName='areaUnderROC'\n",
    "        )\n",
    "\n",
    "evaluator.evaluate(predictions)"
   ]
  },
  {
   "cell_type": "code",
   "execution_count": 50,
   "metadata": {},
   "outputs": [
    {
     "data": {
      "text/plain": [
       "0.9947275922671354"
      ]
     },
     "execution_count": 50,
     "metadata": {},
     "output_type": "execute_result"
    }
   ],
   "source": [
    "# Evaluating the model by hand\n",
    "\n",
    "predictions.rdd.map(lambda x: (x[0]==x[1])*1).reduce(lambda x,y: x+y)/predictions.count()"
   ]
  },
  {
   "cell_type": "code",
   "execution_count": 51,
   "metadata": {},
   "outputs": [
    {
     "data": {
      "text/plain": [
       "0.9947275922671354"
      ]
     },
     "execution_count": 51,
     "metadata": {},
     "output_type": "execute_result"
    }
   ],
   "source": [
    "# possible metric choices: (f1|weightedPrecision|weightedRecall|accuracy)'\n",
    "\n",
    "evaluator = MulticlassClassificationEvaluator(\n",
    "                    predictionCol='prediction',\n",
    "                    labelCol='label',\n",
    "                    metricName='accuracy'\n",
    "                         )\n",
    "\n",
    "evaluator.evaluate(predictions)"
   ]
  },
  {
   "cell_type": "markdown",
   "metadata": {},
   "source": [
    "### Logistic regression with grid search"
   ]
  },
  {
   "cell_type": "code",
   "execution_count": 52,
   "metadata": {},
   "outputs": [
    {
     "data": {
      "text/plain": [
       "['aggregationDepth',\n",
       " 'standardization',\n",
       " 'fitIntercept',\n",
       " 'elasticNetParam',\n",
       " 'rawPredictionCol',\n",
       " 'probabilityCol',\n",
       " 'predictionCol',\n",
       " 'labelCol',\n",
       " 'featuresCol',\n",
       " 'maxIter',\n",
       " 'regParam',\n",
       " 'tol',\n",
       " 'threshold',\n",
       " 'family']"
      ]
     },
     "execution_count": 52,
     "metadata": {},
     "output_type": "execute_result"
    }
   ],
   "source": [
    "[parameter.name for parameter in model._defaultParamMap]"
   ]
  },
  {
   "cell_type": "code",
   "execution_count": 44,
   "metadata": {},
   "outputs": [
    {
     "name": "stdout",
     "output_type": "stream",
     "text": [
      "Average cv scores:\n",
      "[0.9426 0.9449 0.9658 0.9634 0.9682 0.9729 0.965  0.9613 0.9114 0.9446\n",
      " 0.7262 0.9348 0.6217 0.932  0.6217 0.9296 0.6217 0.9296]\n",
      "Best model parameters:\n",
      "{'regParam': 0.01, 'fitIntercept': False}\n",
      "\n",
      "Best model test accuracy:\n",
      "0.9881656804733728\n"
     ]
    }
   ],
   "source": [
    "# Setup train-test split\n",
    "(data_train, data_test) = vector_df.randomSplit([0.7, 0.3],seed=1)\n",
    "\n",
    "scaler = StandardScaler(withMean=True,\n",
    "                        inputCol=\"features\", \n",
    "                        outputCol=\"scaledfeatures\")\n",
    "\n",
    "model = LogisticRegression(featuresCol=scaler.getOutputCol(),\n",
    "                           labelCol='label')\n",
    "\n",
    "pipeline = Pipeline(stages=[scaler, model])\n",
    "\n",
    "evaluator = MulticlassClassificationEvaluator(\n",
    "                    predictionCol='prediction',\n",
    "                    labelCol='label',\n",
    "                    metricName='accuracy'\n",
    "                         )\n",
    "\n",
    "paramGrid = ParamGridBuilder() \\\n",
    "    .addGrid(model.regParam, np.logspace(-4,4,9)) \\\n",
    "    .addGrid(model.fitIntercept,[True,False]) \\\n",
    "    .build()\n",
    "\n",
    "# the actual gridsearch\n",
    "crossval = CrossValidator(estimator=pipeline,\n",
    "                          estimatorParamMaps=paramGrid,\n",
    "                          evaluator=evaluator,\n",
    "                          numFolds=5)  \n",
    "\n",
    "# Run cross-validation, and choose the best set of parameters.\n",
    "model_fit = crossval.fit(data_train)\n",
    "\n",
    "print('Average cv scores:')\n",
    "print(np.around(np.array(model_fit.avgMetrics),4))\n",
    "\n",
    "java_model = model_fit.bestModel.stages[1]._java_obj\n",
    "\n",
    "print('Best model parameters:')\n",
    "print({param.name: java_model.getOrDefault(java_model.getParam(param.name)) \n",
    "    for param in paramGrid[0]})\n",
    "print()\n",
    "#print(java_model.explainParams())\n",
    "\n",
    "predictions = model_fit.transform(data_test)\n",
    "\n",
    "print('Best model test accuracy:')\n",
    "print(evaluator.evaluate(predictions))"
   ]
  },
  {
   "cell_type": "markdown",
   "metadata": {},
   "source": [
    "### Decision Tree with grid search"
   ]
  },
  {
   "cell_type": "code",
   "execution_count": 53,
   "metadata": {},
   "outputs": [],
   "source": [
    "from pyspark.ml.classification import DecisionTreeClassifier, DecisionTreeClassificationModel"
   ]
  },
  {
   "cell_type": "code",
   "execution_count": 54,
   "metadata": {},
   "outputs": [],
   "source": [
    "model = DecisionTreeClassifier(featuresCol=scaler.getOutputCol(),\n",
    "                           labelCol='label')"
   ]
  },
  {
   "cell_type": "code",
   "execution_count": 55,
   "metadata": {},
   "outputs": [
    {
     "data": {
      "text/plain": [
       "['seed',\n",
       " 'rawPredictionCol',\n",
       " 'probabilityCol',\n",
       " 'predictionCol',\n",
       " 'labelCol',\n",
       " 'featuresCol',\n",
       " 'maxDepth',\n",
       " 'maxBins',\n",
       " 'minInstancesPerNode',\n",
       " 'minInfoGain',\n",
       " 'maxMemoryInMB',\n",
       " 'cacheNodeIds',\n",
       " 'checkpointInterval',\n",
       " 'impurity']"
      ]
     },
     "execution_count": 55,
     "metadata": {},
     "output_type": "execute_result"
    }
   ],
   "source": [
    "[parameter.name for parameter in model._defaultParamMap]"
   ]
  },
  {
   "cell_type": "code",
   "execution_count": 56,
   "metadata": {},
   "outputs": [
    {
     "name": "stdout",
     "output_type": "stream",
     "text": [
      "Average cv scores:\n",
      "[0.8893 0.8909 0.8855]\n",
      "Best model parameters:\n",
      "{'maxDepth': 4}\n",
      "\n",
      "Best model test accuracy:\n",
      "0.9704142011834319\n"
     ]
    }
   ],
   "source": [
    "(data_train, data_test) = vector_df.randomSplit([0.7, 0.3],seed=1)\n",
    "scaler = StandardScaler(withMean=True,\n",
    "                        inputCol=\"features\", \n",
    "                        outputCol=\"scaledfeatures\")\n",
    "\n",
    "\n",
    "pipeline = Pipeline(stages=[scaler, model])\n",
    "\n",
    "evaluator = MulticlassClassificationEvaluator(\n",
    "                    predictionCol='prediction',\n",
    "                    labelCol='label',\n",
    "                    metricName='accuracy'\n",
    "                         )\n",
    "\n",
    "paramGrid = ParamGridBuilder() \\\n",
    "    .addGrid(model.maxDepth, [3, 4, 5]) \\\n",
    "    .build()\n",
    "\n",
    "# the actual gridsearch\n",
    "crossval = CrossValidator(estimator=pipeline,\n",
    "                          estimatorParamMaps=paramGrid,\n",
    "                          evaluator=evaluator,\n",
    "                          numFolds=5)  \n",
    "\n",
    "# Run cross-validation, and choose the best set of parameters.\n",
    "model_fit = crossval.fit(data_train)\n",
    "\n",
    "print('Average cv scores:')\n",
    "print(np.around(np.array(model_fit.avgMetrics),4))\n",
    "\n",
    "java_model = model_fit.bestModel.stages[1]._java_obj\n",
    "\n",
    "print('Best model parameters:')\n",
    "print({param.name: java_model.getOrDefault(java_model.getParam(param.name)) \n",
    "    for param in paramGrid[0]})\n",
    "print()\n",
    "#print(java_model.explainParams())\n",
    "\n",
    "predictions = model_fit.transform(data_test)\n",
    "\n",
    "print('Best model test accuracy:')\n",
    "print(evaluator.evaluate(predictions))"
   ]
  },
  {
   "cell_type": "code",
   "execution_count": 57,
   "metadata": {},
   "outputs": [],
   "source": [
    "m_1 = DecisionTreeClassificationModel(java_model=java_model)"
   ]
  },
  {
   "cell_type": "code",
   "execution_count": 58,
   "metadata": {},
   "outputs": [
    {
     "data": {
      "text/plain": [
       "SparseVector(30, {7: 0.0581, 10: 0.0107, 15: 0.0356, 21: 0.0913, 22: 0.7007, 27: 0.1036})"
      ]
     },
     "execution_count": 58,
     "metadata": {},
     "output_type": "execute_result"
    }
   ],
   "source": [
    "m_1.featureImportances"
   ]
  }
 ],
 "metadata": {
  "kernelspec": {
   "display_name": "Python 3",
   "language": "python",
   "name": "python3"
  },
  "language_info": {
   "codemirror_mode": {
    "name": "ipython",
    "version": 3
   },
   "file_extension": ".py",
   "mimetype": "text/x-python",
   "name": "python",
   "nbconvert_exporter": "python",
   "pygments_lexer": "ipython3",
   "version": "3.6.8"
  },
  "toc": {
   "base_numbering": 1,
   "nav_menu": {},
   "number_sections": false,
   "sideBar": true,
   "skip_h1_title": true,
   "title_cell": "Lesson Guide",
   "title_sidebar": "Contents",
   "toc_cell": true,
   "toc_position": {},
   "toc_section_display": true,
   "toc_window_display": false
  }
 },
 "nbformat": 4,
 "nbformat_minor": 2
}
